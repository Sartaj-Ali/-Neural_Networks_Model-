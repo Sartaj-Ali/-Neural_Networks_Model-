{
  "nbformat": 4,
  "nbformat_minor": 0,
  "metadata": {
    "colab": {
      "provenance": []
    },
    "kernelspec": {
      "name": "python3",
      "display_name": "Python 3"
    },
    "language_info": {
      "name": "python"
    }
  },
  "cells": [
    {
      "cell_type": "code",
      "execution_count": null,
      "metadata": {
        "id": "uGIA9PO1MHiP"
      },
      "outputs": [],
      "source": [
        "# problem statement\n",
        "\"\"\" you have task with creating NN model to predict whether a student pass or\n",
        "    fail based on two features.Hours student and previouse score.The dataset\n",
        "    contain information on hours studied and previouse score for group of students.\n",
        "    along with their exam outcomes(pass or fail)\"\"\""
      ]
    },
    {
      "cell_type": "code",
      "source": [
        " # step 1\n",
        "import numpy as np\n",
        "from sklearn.preprocessing import LabelEncoder\n",
        "from sklearn.neural_network import MLPClassifier\n"
      ],
      "metadata": {
        "id": "ScWjW4UsOacm"
      },
      "execution_count": 5,
      "outputs": []
    },
    {
      "cell_type": "code",
      "source": [
        "# step 2\n",
        "hours_studied = [2.5,1.5,3.0,1.8,4.0,2.0,3.5,2.7]\n",
        "prev_exam_score = [80,70,7.5,60,85,80,90,65]\n",
        "exam_outcome = ['pass','fail','pass','fail', 'pass', 'pass', 'pass', 'fail']"
      ],
      "metadata": {
        "id": "D31pPU7pP1gR"
      },
      "execution_count": 6,
      "outputs": []
    },
    {
      "cell_type": "code",
      "source": [
        "# step 3\n",
        "label_encoder = LabelEncoder()\n",
        "encoded_exam_outcome = label_encoder.fit_transform(exam_outcome)"
      ],
      "metadata": {
        "id": "1yTGT9vqSpH8"
      },
      "execution_count": 8,
      "outputs": []
    },
    {
      "cell_type": "code",
      "source": [
        "# step 4\n",
        "X = np.column_stack((hours_studied,prev_exam_score))\n",
        "y =encoded_exam_outcome"
      ],
      "metadata": {
        "id": "DKja0lDxSv8Q"
      },
      "execution_count": 11,
      "outputs": []
    },
    {
      "cell_type": "code",
      "source": [
        "# step 5\n",
        "clf = MLPClassifier(hidden_layer_sizes = (4,8) , activation='logistic',max_iter=1000,random_state=42)"
      ],
      "metadata": {
        "id": "fTQZVTToUGrt"
      },
      "execution_count": 17,
      "outputs": []
    },
    {
      "cell_type": "code",
      "source": [
        "# step 6 _ inputting some example data\n",
        "new_student_data = np.array([[2.0,78]])"
      ],
      "metadata": {
        "id": "VH9hblAnV2L-"
      },
      "execution_count": 18,
      "outputs": []
    },
    {
      "cell_type": "code",
      "source": [
        "# step 7\n",
        "predicted_outcome = clf.fit(X,y).predict(new_student_data)\n"
      ],
      "metadata": {
        "id": "pF1p_VGpWUCq"
      },
      "execution_count": 19,
      "outputs": []
    },
    {
      "cell_type": "code",
      "source": [
        "#step 8\n",
        "predicted_outcome_decode =label_encoder.inverse_transform(predicted_outcome)"
      ],
      "metadata": {
        "id": "nCqcSooyWifc"
      },
      "execution_count": 20,
      "outputs": []
    },
    {
      "cell_type": "code",
      "source": [
        "# step 9\n",
        "print(\"Predicted Exam Output For New Student : {}\".format(predicted_outcome_decode[0]))"
      ],
      "metadata": {
        "colab": {
          "base_uri": "https://localhost:8080/"
        },
        "id": "KbgEuok6Xa-4",
        "outputId": "58feba71-871c-4640-b443-81ce4776ff92"
      },
      "execution_count": 23,
      "outputs": [
        {
          "output_type": "stream",
          "name": "stdout",
          "text": [
            "Predicted Exam Output For New Student : pass\n"
          ]
        }
      ]
    },
    {
      "cell_type": "code",
      "source": [],
      "metadata": {
        "id": "TLDW6iljX-iI"
      },
      "execution_count": null,
      "outputs": []
    }
  ]
}